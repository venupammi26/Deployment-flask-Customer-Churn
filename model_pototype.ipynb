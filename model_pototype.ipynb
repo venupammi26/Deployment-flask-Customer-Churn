{
 "cells": [
  {
   "cell_type": "code",
   "execution_count": 69,
   "metadata": {},
   "outputs": [],
   "source": [
    "import pandas as pd\n",
    "import numpy as np\n",
    "from matplotlib import pyplot as plt\n",
    "from matplotlib import style\n",
    "import seaborn as sns #for background style for plots\n",
    "from matplotlib.pyplot import figure #plot size\n",
    "import matplotlib.style #Setting the theme of your plots\n",
    "\n",
    "pd.set_option('display.max_columns', 100)\n",
    "pd.set_option('display.max_rows',100)"
   ]
  },
  {
   "cell_type": "markdown",
   "metadata": {},
   "source": [
    "# Data Collection"
   ]
  },
  {
   "cell_type": "code",
   "execution_count": 70,
   "metadata": {},
   "outputs": [
    {
     "name": "stdout",
     "output_type": "stream",
     "text": [
      "(1401, 16)\n"
     ]
    },
    {
     "data": {
      "text/html": [
       "<div>\n",
       "<style scoped>\n",
       "    .dataframe tbody tr th:only-of-type {\n",
       "        vertical-align: middle;\n",
       "    }\n",
       "\n",
       "    .dataframe tbody tr th {\n",
       "        vertical-align: top;\n",
       "    }\n",
       "\n",
       "    .dataframe thead th {\n",
       "        text-align: right;\n",
       "    }\n",
       "</style>\n",
       "<table border=\"1\" class=\"dataframe\">\n",
       "  <thead>\n",
       "    <tr style=\"text-align: right;\">\n",
       "      <th></th>\n",
       "      <th>Customer ID</th>\n",
       "      <th>network_age</th>\n",
       "      <th>Customer tenure in month</th>\n",
       "      <th>Total Spend in Months 1 and 2 of 2017</th>\n",
       "      <th>Total SMS Spend</th>\n",
       "      <th>Total Data Spend</th>\n",
       "      <th>Total Data Consumption</th>\n",
       "      <th>Total Unique Calls</th>\n",
       "      <th>Total Onnet spend</th>\n",
       "      <th>Total Offnet spend</th>\n",
       "      <th>Total Call centre complaint calls</th>\n",
       "      <th>Network type subscription in Month 1</th>\n",
       "      <th>Network type subscription in Month 2</th>\n",
       "      <th>Most Loved Competitor network in in Month 1</th>\n",
       "      <th>Most Loved Competitor network in in Month 2</th>\n",
       "      <th>Churn Status</th>\n",
       "    </tr>\n",
       "  </thead>\n",
       "  <tbody>\n",
       "    <tr>\n",
       "      <td>0</td>\n",
       "      <td>ADF0039</td>\n",
       "      <td>123.0</td>\n",
       "      <td>4.10</td>\n",
       "      <td>76.7140</td>\n",
       "      <td>0.00</td>\n",
       "      <td>1.25</td>\n",
       "      <td>1.4951</td>\n",
       "      <td>14.0</td>\n",
       "      <td>564.0</td>\n",
       "      <td>6408.0</td>\n",
       "      <td>2.0</td>\n",
       "      <td>2G</td>\n",
       "      <td>2G</td>\n",
       "      <td>Uxaa</td>\n",
       "      <td>Mango</td>\n",
       "      <td>0.0</td>\n",
       "    </tr>\n",
       "    <tr>\n",
       "      <td>1</td>\n",
       "      <td>ADF0041</td>\n",
       "      <td>1316.0</td>\n",
       "      <td>43.87</td>\n",
       "      <td>98.8904</td>\n",
       "      <td>4.14</td>\n",
       "      <td>1.25</td>\n",
       "      <td>1.0244</td>\n",
       "      <td>27.0</td>\n",
       "      <td>1626.0</td>\n",
       "      <td>4373.0</td>\n",
       "      <td>1.0</td>\n",
       "      <td>2G</td>\n",
       "      <td>2G</td>\n",
       "      <td>Uxaa</td>\n",
       "      <td>Mango</td>\n",
       "      <td>0.0</td>\n",
       "    </tr>\n",
       "    <tr>\n",
       "      <td>2</td>\n",
       "      <td>ADF0051</td>\n",
       "      <td>2385.0</td>\n",
       "      <td>79.50</td>\n",
       "      <td>372.6300</td>\n",
       "      <td>3.51</td>\n",
       "      <td>1.25</td>\n",
       "      <td>6.0898</td>\n",
       "      <td>119.0</td>\n",
       "      <td>10411.0</td>\n",
       "      <td>22039.0</td>\n",
       "      <td>1.0</td>\n",
       "      <td>2G</td>\n",
       "      <td>2G</td>\n",
       "      <td>Weematel</td>\n",
       "      <td>Mango</td>\n",
       "      <td>0.0</td>\n",
       "    </tr>\n",
       "    <tr>\n",
       "      <td>3</td>\n",
       "      <td>ADF0059</td>\n",
       "      <td>1614.0</td>\n",
       "      <td>53.80</td>\n",
       "      <td>530.2000</td>\n",
       "      <td>6.85</td>\n",
       "      <td>1.25</td>\n",
       "      <td>3.3447</td>\n",
       "      <td>69.0</td>\n",
       "      <td>6822.0</td>\n",
       "      <td>6274.0</td>\n",
       "      <td>1.0</td>\n",
       "      <td>2G</td>\n",
       "      <td>2G</td>\n",
       "      <td>0</td>\n",
       "      <td>Mango</td>\n",
       "      <td>0.0</td>\n",
       "    </tr>\n",
       "    <tr>\n",
       "      <td>4</td>\n",
       "      <td>ADF0060</td>\n",
       "      <td>2175.0</td>\n",
       "      <td>72.50</td>\n",
       "      <td>554.1300</td>\n",
       "      <td>6.99</td>\n",
       "      <td>153.75</td>\n",
       "      <td>673204.0342</td>\n",
       "      <td>33.0</td>\n",
       "      <td>3387.0</td>\n",
       "      <td>7241.0</td>\n",
       "      <td>1.0</td>\n",
       "      <td>2G</td>\n",
       "      <td>3G</td>\n",
       "      <td>Weematel</td>\n",
       "      <td>Mango</td>\n",
       "      <td>0.0</td>\n",
       "    </tr>\n",
       "  </tbody>\n",
       "</table>\n",
       "</div>"
      ],
      "text/plain": [
       "  Customer ID  network_age  Customer tenure in month  \\\n",
       "0     ADF0039        123.0                      4.10   \n",
       "1     ADF0041       1316.0                     43.87   \n",
       "2     ADF0051       2385.0                     79.50   \n",
       "3     ADF0059       1614.0                     53.80   \n",
       "4     ADF0060       2175.0                     72.50   \n",
       "\n",
       "   Total Spend in Months 1 and 2 of 2017  Total SMS Spend  Total Data Spend  \\\n",
       "0                                76.7140             0.00              1.25   \n",
       "1                                98.8904             4.14              1.25   \n",
       "2                               372.6300             3.51              1.25   \n",
       "3                               530.2000             6.85              1.25   \n",
       "4                               554.1300             6.99            153.75   \n",
       "\n",
       "   Total Data Consumption  Total Unique Calls  Total Onnet spend   \\\n",
       "0                  1.4951                14.0               564.0   \n",
       "1                  1.0244                27.0              1626.0   \n",
       "2                  6.0898               119.0             10411.0   \n",
       "3                  3.3447                69.0              6822.0   \n",
       "4             673204.0342                33.0              3387.0   \n",
       "\n",
       "   Total Offnet spend  Total Call centre complaint calls  \\\n",
       "0              6408.0                                2.0   \n",
       "1              4373.0                                1.0   \n",
       "2             22039.0                                1.0   \n",
       "3              6274.0                                1.0   \n",
       "4              7241.0                                1.0   \n",
       "\n",
       "  Network type subscription in Month 1 Network type subscription in Month 2  \\\n",
       "0                                   2G                                   2G   \n",
       "1                                   2G                                   2G   \n",
       "2                                   2G                                   2G   \n",
       "3                                   2G                                   2G   \n",
       "4                                   2G                                   3G   \n",
       "\n",
       "  Most Loved Competitor network in in Month 1  \\\n",
       "0                                        Uxaa   \n",
       "1                                        Uxaa   \n",
       "2                                    Weematel   \n",
       "3                                           0   \n",
       "4                                    Weematel   \n",
       "\n",
       "  Most Loved Competitor network in in Month 2  Churn Status  \n",
       "0                                       Mango           0.0  \n",
       "1                                       Mango           0.0  \n",
       "2                                       Mango           0.0  \n",
       "3                                       Mango           0.0  \n",
       "4                                       Mango           0.0  "
      ]
     },
     "execution_count": 70,
     "metadata": {},
     "output_type": "execute_result"
    }
   ],
   "source": [
    "data=pd.read_csv(\"TRAIN.csv\")\n",
    "print(data.shape)\n",
    "data.head()"
   ]
  },
  {
   "cell_type": "markdown",
   "metadata": {},
   "source": [
    "# EDA & Preprocessing"
   ]
  },
  {
   "cell_type": "code",
   "execution_count": 71,
   "metadata": {},
   "outputs": [
    {
     "data": {
      "text/plain": [
       "<matplotlib.axes._subplots.AxesSubplot at 0x2d1e41c4a48>"
      ]
     },
     "execution_count": 71,
     "metadata": {},
     "output_type": "execute_result"
    },
    {
     "data": {
      "image/png": "[encoded data removed]",
      "text/plain": [
       "<Figure size 576x432 with 1 Axes>"
      ]
     },
     "metadata": {
      "needs_background": "light"
     },
     "output_type": "display_data"
    }
   ],
   "source": [
    "data['Churn Status'].hist(bins =20, figsize =(8,6))"
   ]
  },
  {
   "cell_type": "code",
   "execution_count": 72,
   "metadata": {},
   "outputs": [
    {
     "data": {
      "image/png": "[encoded data removed]",
      "text/plain": [
       "<Figure size 1000x600 with 1 Axes>"
      ]
     },
     "metadata": {},
     "output_type": "display_data"
    }
   ],
   "source": [
    "#Pie Chart\n",
    "#Calculating Churn Percentage\n",
    "yes=len(data[data['Churn Status']==1.0])\n",
    "no=len(data[data['Churn Status']==0.0])\n",
    "tot=len(data)\n",
    "\n",
    "yes=(yes/tot)*100\n",
    "no=(no/tot)*100\n",
    "\n",
    "Churn_Perc=[yes,no]\n",
    "figure(num=None, figsize=(5, 3), dpi=200)\n",
    "plt.pie(Churn_Perc,autopct='%1.1f%%')\n",
    "plt.title(\"Churn\",weight=\"bold\")\n",
    "labels=['Yes','No']\n",
    "plt.legend(labels,bbox_to_anchor=(1, 1))\n",
    "plt.show()"
   ]
  },
  {
   "cell_type": "markdown",
   "metadata": {},
   "source": [
    "Exactly it is balanced data"
   ]
  },
  {
   "cell_type": "code",
   "execution_count": 73,
   "metadata": {},
   "outputs": [],
   "source": [
    "data.columns=data.columns.str.replace(' ', '')"
   ]
  },
  {
   "cell_type": "code",
   "execution_count": 74,
   "metadata": {},
   "outputs": [
    {
     "data": {
      "text/plain": [
       "Index(['CustomerID', 'network_age', 'Customertenureinmonth',\n",
       "       'TotalSpendinMonths1and2of2017', 'TotalSMSSpend', 'TotalDataSpend',\n",
       "       'TotalDataConsumption', 'TotalUniqueCalls', 'TotalOnnetspend',\n",
       "       'TotalOffnetspend', 'TotalCallcentrecomplaintcalls',\n",
       "       'NetworktypesubscriptioninMonth1', 'NetworktypesubscriptioninMonth2',\n",
       "       'MostLovedCompetitornetworkininMonth1',\n",
       "       'MostLovedCompetitornetworkininMonth2', 'ChurnStatus'],\n",
       "      dtype='object')"
      ]
     },
     "execution_count": 74,
     "metadata": {},
     "output_type": "execute_result"
    }
   ],
   "source": [
    "data.columns"
   ]
  },
  {
   "cell_type": "code",
   "execution_count": 75,
   "metadata": {},
   "outputs": [
    {
     "data": {
      "text/html": [
       "<div>\n",
       "<style scoped>\n",
       "    .dataframe tbody tr th:only-of-type {\n",
       "        vertical-align: middle;\n",
       "    }\n",
       "\n",
       "    .dataframe tbody tr th {\n",
       "        vertical-align: top;\n",
       "    }\n",
       "\n",
       "    .dataframe thead th {\n",
       "        text-align: right;\n",
       "    }\n",
       "</style>\n",
       "<table border=\"1\" class=\"dataframe\">\n",
       "  <thead>\n",
       "    <tr style=\"text-align: right;\">\n",
       "      <th></th>\n",
       "      <th>network_age</th>\n",
       "      <th>Customertenureinmonth</th>\n",
       "      <th>TotalSpendinMonths1and2of2017</th>\n",
       "      <th>TotalSMSSpend</th>\n",
       "      <th>TotalDataSpend</th>\n",
       "      <th>TotalDataConsumption</th>\n",
       "      <th>TotalUniqueCalls</th>\n",
       "      <th>TotalOnnetspend</th>\n",
       "      <th>TotalOffnetspend</th>\n",
       "      <th>TotalCallcentrecomplaintcalls</th>\n",
       "      <th>ChurnStatus</th>\n",
       "    </tr>\n",
       "  </thead>\n",
       "  <tbody>\n",
       "    <tr>\n",
       "      <td>count</td>\n",
       "      <td>1400.000000</td>\n",
       "      <td>1400.000000</td>\n",
       "      <td>1400.000000</td>\n",
       "      <td>1400.000000</td>\n",
       "      <td>1400.000000</td>\n",
       "      <td>1.400000e+03</td>\n",
       "      <td>1400.000000</td>\n",
       "      <td>1400.000000</td>\n",
       "      <td>1400.00000</td>\n",
       "      <td>1400.000000</td>\n",
       "      <td>1400.000000</td>\n",
       "    </tr>\n",
       "    <tr>\n",
       "      <td>mean</td>\n",
       "      <td>1450.634286</td>\n",
       "      <td>48.354479</td>\n",
       "      <td>805.641729</td>\n",
       "      <td>30.394286</td>\n",
       "      <td>58.482293</td>\n",
       "      <td>2.162307e+06</td>\n",
       "      <td>202.422143</td>\n",
       "      <td>6814.392143</td>\n",
       "      <td>15730.42000</td>\n",
       "      <td>1.922143</td>\n",
       "      <td>0.500000</td>\n",
       "    </tr>\n",
       "    <tr>\n",
       "      <td>std</td>\n",
       "      <td>1276.008188</td>\n",
       "      <td>42.533536</td>\n",
       "      <td>1251.742068</td>\n",
       "      <td>60.885095</td>\n",
       "      <td>289.613589</td>\n",
       "      <td>6.865958e+06</td>\n",
       "      <td>302.036220</td>\n",
       "      <td>16707.784943</td>\n",
       "      <td>37448.94212</td>\n",
       "      <td>2.345515</td>\n",
       "      <td>0.500179</td>\n",
       "    </tr>\n",
       "    <tr>\n",
       "      <td>min</td>\n",
       "      <td>-5.000000</td>\n",
       "      <td>-0.170000</td>\n",
       "      <td>4.910000</td>\n",
       "      <td>0.000000</td>\n",
       "      <td>0.000000</td>\n",
       "      <td>5.860000e-02</td>\n",
       "      <td>1.000000</td>\n",
       "      <td>0.000000</td>\n",
       "      <td>0.00000</td>\n",
       "      <td>1.000000</td>\n",
       "      <td>0.000000</td>\n",
       "    </tr>\n",
       "    <tr>\n",
       "      <td>25%</td>\n",
       "      <td>287.000000</td>\n",
       "      <td>9.567500</td>\n",
       "      <td>155.537500</td>\n",
       "      <td>2.620000</td>\n",
       "      <td>1.250000</td>\n",
       "      <td>1.384346e+03</td>\n",
       "      <td>18.000000</td>\n",
       "      <td>60.000000</td>\n",
       "      <td>1123.00000</td>\n",
       "      <td>1.000000</td>\n",
       "      <td>0.000000</td>\n",
       "    </tr>\n",
       "    <tr>\n",
       "      <td>50%</td>\n",
       "      <td>1171.000000</td>\n",
       "      <td>39.030000</td>\n",
       "      <td>606.575000</td>\n",
       "      <td>13.715000</td>\n",
       "      <td>11.250000</td>\n",
       "      <td>1.193487e+05</td>\n",
       "      <td>81.500000</td>\n",
       "      <td>1617.000000</td>\n",
       "      <td>4171.00000</td>\n",
       "      <td>1.000000</td>\n",
       "      <td>0.500000</td>\n",
       "    </tr>\n",
       "    <tr>\n",
       "      <td>75%</td>\n",
       "      <td>2242.000000</td>\n",
       "      <td>74.732500</td>\n",
       "      <td>1018.395500</td>\n",
       "      <td>31.205000</td>\n",
       "      <td>42.812500</td>\n",
       "      <td>1.206785e+06</td>\n",
       "      <td>254.250000</td>\n",
       "      <td>7177.750000</td>\n",
       "      <td>13151.50000</td>\n",
       "      <td>2.000000</td>\n",
       "      <td>1.000000</td>\n",
       "    </tr>\n",
       "    <tr>\n",
       "      <td>max</td>\n",
       "      <td>5451.000000</td>\n",
       "      <td>181.700000</td>\n",
       "      <td>24438.830000</td>\n",
       "      <td>873.980000</td>\n",
       "      <td>8295.000000</td>\n",
       "      <td>9.945640e+07</td>\n",
       "      <td>2596.000000</td>\n",
       "      <td>381174.000000</td>\n",
       "      <td>431440.00000</td>\n",
       "      <td>49.000000</td>\n",
       "      <td>1.000000</td>\n",
       "    </tr>\n",
       "  </tbody>\n",
       "</table>\n",
       "</div>"
      ],
      "text/plain": [
       "       network_age  Customertenureinmonth  TotalSpendinMonths1and2of2017  \\\n",
       "count  1400.000000            1400.000000                    1400.000000   \n",
       "mean   1450.634286              48.354479                     805.641729   \n",
       "std    1276.008188              42.533536                    1251.742068   \n",
       "min      -5.000000              -0.170000                       4.910000   \n",
       "25%     287.000000               9.567500                     155.537500   \n",
       "50%    1171.000000              39.030000                     606.575000   \n",
       "75%    2242.000000              74.732500                    1018.395500   \n",
       "max    5451.000000             181.700000                   24438.830000   \n",
       "\n",
       "       TotalSMSSpend  TotalDataSpend  TotalDataConsumption  TotalUniqueCalls  \\\n",
       "count    1400.000000     1400.000000          1.400000e+03       1400.000000   \n",
       "mean       30.394286       58.482293          2.162307e+06        202.422143   \n",
       "std        60.885095      289.613589          6.865958e+06        302.036220   \n",
       "min         0.000000        0.000000          5.860000e-02          1.000000   \n",
       "25%         2.620000        1.250000          1.384346e+03         18.000000   \n",
       "50%        13.715000       11.250000          1.193487e+05         81.500000   \n",
       "75%        31.205000       42.812500          1.206785e+06        254.250000   \n",
       "max       873.980000     8295.000000          9.945640e+07       2596.000000   \n",
       "\n",
       "       TotalOnnetspend  TotalOffnetspend  TotalCallcentrecomplaintcalls  \\\n",
       "count      1400.000000        1400.00000                    1400.000000   \n",
       "mean       6814.392143       15730.42000                       1.922143   \n",
       "std       16707.784943       37448.94212                       2.345515   \n",
       "min           0.000000           0.00000                       1.000000   \n",
       "25%          60.000000        1123.00000                       1.000000   \n",
       "50%        1617.000000        4171.00000                       1.000000   \n",
       "75%        7177.750000       13151.50000                       2.000000   \n",
       "max      381174.000000      431440.00000                      49.000000   \n",
       "\n",
       "       ChurnStatus  \n",
       "count  1400.000000  \n",
       "mean      0.500000  \n",
       "std       0.500179  \n",
       "min       0.000000  \n",
       "25%       0.000000  \n",
       "50%       0.500000  \n",
       "75%       1.000000  \n",
       "max       1.000000  "
      ]
     },
     "execution_count": 75,
     "metadata": {},
     "output_type": "execute_result"
    }
   ],
   "source": [
    "data.describe()"
   ]
  },
  {
   "cell_type": "code",
   "execution_count": 76,
   "metadata": {},
   "outputs": [
    {
     "data": {
      "text/plain": [
       "CustomerID                               object\n",
       "network_age                             float64\n",
       "Customertenureinmonth                   float64\n",
       "TotalSpendinMonths1and2of2017           float64\n",
       "TotalSMSSpend                           float64\n",
       "TotalDataSpend                          float64\n",
       "TotalDataConsumption                    float64\n",
       "TotalUniqueCalls                        float64\n",
       "TotalOnnetspend                         float64\n",
       "TotalOffnetspend                        float64\n",
       "TotalCallcentrecomplaintcalls           float64\n",
       "NetworktypesubscriptioninMonth1          object\n",
       "NetworktypesubscriptioninMonth2          object\n",
       "MostLovedCompetitornetworkininMonth1     object\n",
       "MostLovedCompetitornetworkininMonth2     object\n",
       "ChurnStatus                             float64\n",
       "dtype: object"
      ]
     },
     "execution_count": 76,
     "metadata": {},
     "output_type": "execute_result"
    }
   ],
   "source": [
    "data.dtypes"
   ]
  },
  {
   "cell_type": "code",
   "execution_count": 77,
   "metadata": {},
   "outputs": [
    {
     "name": "stdout",
     "output_type": "stream",
     "text": [
      "<class 'pandas.core.frame.DataFrame'>\n",
      "RangeIndex: 1401 entries, 0 to 1400\n",
      "Data columns (total 16 columns):\n",
      "CustomerID                              1400 non-null object\n",
      "network_age                             1400 non-null float64\n",
      "Customertenureinmonth                   1400 non-null float64\n",
      "TotalSpendinMonths1and2of2017           1400 non-null float64\n",
      "TotalSMSSpend                           1400 non-null float64\n",
      "TotalDataSpend                          1400 non-null float64\n",
      "TotalDataConsumption                    1400 non-null float64\n",
      "TotalUniqueCalls                        1400 non-null float64\n",
      "TotalOnnetspend                         1400 non-null float64\n",
      "TotalOffnetspend                        1400 non-null float64\n",
      "TotalCallcentrecomplaintcalls           1400 non-null float64\n",
      "NetworktypesubscriptioninMonth1         1225 non-null object\n",
      "NetworktypesubscriptioninMonth2         1256 non-null object\n",
      "MostLovedCompetitornetworkininMonth1    1399 non-null object\n",
      "MostLovedCompetitornetworkininMonth2    1399 non-null object\n",
      "ChurnStatus                             1400 non-null float64\n",
      "dtypes: float64(11), object(5)\n",
      "memory usage: 175.2+ KB\n"
     ]
    }
   ],
   "source": [
    "data.info()"
   ]
  },
  {
   "cell_type": "code",
   "execution_count": 78,
   "metadata": {},
   "outputs": [
    {
     "data": {
      "text/plain": [
       "CustomerID                                1\n",
       "network_age                               1\n",
       "Customertenureinmonth                     1\n",
       "TotalSpendinMonths1and2of2017             1\n",
       "TotalSMSSpend                             1\n",
       "TotalDataSpend                            1\n",
       "TotalDataConsumption                      1\n",
       "TotalUniqueCalls                          1\n",
       "TotalOnnetspend                           1\n",
       "TotalOffnetspend                          1\n",
       "TotalCallcentrecomplaintcalls             1\n",
       "NetworktypesubscriptioninMonth1         176\n",
       "NetworktypesubscriptioninMonth2         145\n",
       "MostLovedCompetitornetworkininMonth1      2\n",
       "MostLovedCompetitornetworkininMonth2      2\n",
       "ChurnStatus                               1\n",
       "dtype: int64"
      ]
     },
     "execution_count": 78,
     "metadata": {},
     "output_type": "execute_result"
    }
   ],
   "source": [
    "#Missing Values identifying\n",
    "\n",
    "data.isnull().sum()"
   ]
  },
  {
   "cell_type": "code",
   "execution_count": 79,
   "metadata": {},
   "outputs": [
    {
     "data": {
      "text/plain": [
       "array(['2G', '3G', 'Other', nan], dtype=object)"
      ]
     },
     "execution_count": 79,
     "metadata": {},
     "output_type": "execute_result"
    }
   ],
   "source": [
    "data['NetworktypesubscriptioninMonth1'].unique()"
   ]
  },
  {
   "cell_type": "code",
   "execution_count": 80,
   "metadata": {},
   "outputs": [
    {
     "data": {
      "text/plain": [
       "array(['2G', '3G', nan, 'Other'], dtype=object)"
      ]
     },
     "execution_count": 80,
     "metadata": {},
     "output_type": "execute_result"
    }
   ],
   "source": [
    "data['NetworktypesubscriptioninMonth2'].unique()"
   ]
  },
  {
   "cell_type": "markdown",
   "metadata": {},
   "source": [
    "Replace null values in these columns with 'Other'"
   ]
  },
  {
   "cell_type": "code",
   "execution_count": 81,
   "metadata": {},
   "outputs": [
    {
     "data": {
      "text/plain": [
       "CustomerID                              1\n",
       "network_age                             1\n",
       "Customertenureinmonth                   1\n",
       "TotalSpendinMonths1and2of2017           1\n",
       "TotalSMSSpend                           1\n",
       "TotalDataSpend                          1\n",
       "TotalDataConsumption                    1\n",
       "TotalUniqueCalls                        1\n",
       "TotalOnnetspend                         1\n",
       "TotalOffnetspend                        1\n",
       "TotalCallcentrecomplaintcalls           1\n",
       "NetworktypesubscriptioninMonth1         0\n",
       "NetworktypesubscriptioninMonth2         0\n",
       "MostLovedCompetitornetworkininMonth1    2\n",
       "MostLovedCompetitornetworkininMonth2    2\n",
       "ChurnStatus                             1\n",
       "dtype: int64"
      ]
     },
     "execution_count": 81,
     "metadata": {},
     "output_type": "execute_result"
    }
   ],
   "source": [
    "data['NetworktypesubscriptioninMonth2'].fillna('Other', inplace = True)\n",
    "data['NetworktypesubscriptioninMonth1'].fillna('Other', inplace = True)\n",
    "data.isnull().sum()"
   ]
  },
  {
   "cell_type": "markdown",
   "metadata": {},
   "source": [
    "Remove remaining null values\n"
   ]
  },
  {
   "cell_type": "code",
   "execution_count": 82,
   "metadata": {},
   "outputs": [
    {
     "data": {
      "text/plain": [
       "CustomerID                              0\n",
       "network_age                             0\n",
       "Customertenureinmonth                   0\n",
       "TotalSpendinMonths1and2of2017           0\n",
       "TotalSMSSpend                           0\n",
       "TotalDataSpend                          0\n",
       "TotalDataConsumption                    0\n",
       "TotalUniqueCalls                        0\n",
       "TotalOnnetspend                         0\n",
       "TotalOffnetspend                        0\n",
       "TotalCallcentrecomplaintcalls           0\n",
       "NetworktypesubscriptioninMonth1         0\n",
       "NetworktypesubscriptioninMonth2         0\n",
       "MostLovedCompetitornetworkininMonth1    0\n",
       "MostLovedCompetitornetworkininMonth2    0\n",
       "ChurnStatus                             0\n",
       "dtype: int64"
      ]
     },
     "execution_count": 82,
     "metadata": {},
     "output_type": "execute_result"
    }
   ],
   "source": [
    "data=data.dropna()\n",
    "data.isnull().sum()"
   ]
  },
  {
   "cell_type": "code",
   "execution_count": 83,
   "metadata": {},
   "outputs": [
    {
     "data": {
      "text/plain": [
       "(1399, 16)"
      ]
     },
     "execution_count": 83,
     "metadata": {},
     "output_type": "execute_result"
    }
   ],
   "source": [
    "data.shape"
   ]
  },
  {
   "cell_type": "code",
   "execution_count": 84,
   "metadata": {},
   "outputs": [
    {
     "data": {
      "text/plain": [
       "array([[<matplotlib.axes._subplots.AxesSubplot object at 0x000002D1E08ABE08>,\n",
       "        <matplotlib.axes._subplots.AxesSubplot object at 0x000002D1E130E648>,\n",
       "        <matplotlib.axes._subplots.AxesSubplot object at 0x000002D1E0777EC8>],\n",
       "       [<matplotlib.axes._subplots.AxesSubplot object at 0x000002D1E17BB8C8>,\n",
       "        <matplotlib.axes._subplots.AxesSubplot object at 0x000002D1E47BE748>,\n",
       "        <matplotlib.axes._subplots.AxesSubplot object at 0x000002D1E4BDC788>],\n",
       "       [<matplotlib.axes._subplots.AxesSubplot object at 0x000002D1E4100688>,\n",
       "        <matplotlib.axes._subplots.AxesSubplot object at 0x000002D1E47FEC48>,\n",
       "        <matplotlib.axes._subplots.AxesSubplot object at 0x000002D1E4801808>],\n",
       "       [<matplotlib.axes._subplots.AxesSubplot object at 0x000002D1E4584048>,\n",
       "        <matplotlib.axes._subplots.AxesSubplot object at 0x000002D1E4F1CC48>,\n",
       "        <matplotlib.axes._subplots.AxesSubplot object at 0x000002D1E44B4CC8>]],\n",
       "      dtype=object)"
      ]
     },
     "execution_count": 84,
     "metadata": {},
     "output_type": "execute_result"
    },
    {
     "data": {
      "image/png": "[encoded data removed]",
      "text/plain": [
       "<Figure size 1296x1008 with 12 Axes>"
      ]
     },
     "metadata": {
      "needs_background": "light"
     },
     "output_type": "display_data"
    }
   ],
   "source": [
    "data.hist(bins=25 ,figsize=(18,14))"
   ]
  },
  {
   "cell_type": "code",
   "execution_count": 85,
   "metadata": {},
   "outputs": [
    {
     "data": {
      "image/png": "[encoded data removed]",
      "text/plain": [
       "<Figure size 1296x864 with 6 Axes>"
      ]
     },
     "metadata": {
      "needs_background": "light"
     },
     "output_type": "display_data"
    }
   ],
   "source": [
    "#Outlier Identification \n",
    "\n",
    "fig, axs = plt.subplots(2,3, figsize = (18,12))\n",
    "\n",
    "sns.boxplot(data['TotalSpendinMonths1and2of2017'], ax = axs[0][0])\n",
    "sns.boxplot(data['TotalDataSpend'], ax = axs[0][1])\n",
    "sns.boxplot(data['TotalDataConsumption'], ax = axs[0][2])\n",
    "\n",
    "sns.boxplot(data['Customertenureinmonth'], ax = axs[1][0])\n",
    "sns.boxplot(data['TotalOnnetspend'], ax = axs[1][1])\n",
    "sns.boxplot(data['TotalOffnetspend'], ax = axs[1][2])\n",
    "\n",
    "\n",
    "plt.tight_layout\n",
    "plt.show()"
   ]
  },
  {
   "cell_type": "code",
   "execution_count": 86,
   "metadata": {},
   "outputs": [],
   "source": [
    "#Outlier imputation with median (Definition)\n",
    "def Outlier_Imputation(col):\n",
    "                            \n",
    "                        Q1 = data[col].quantile(0.25)\n",
    "                        Q3 = data[col].quantile(0.75)\n",
    "                        IQR = Q3 - Q1\n",
    "                        median = float(data[col].mean())\n",
    "                        data[col] = np.where(~((data[col] >= Q1 - 1.5*IQR) & (data[col]<= Q3 + 1.5*IQR)), median, data[col])\n",
    "                        print(sns.boxplot(data[col]))\n"
   ]
  },
  {
   "cell_type": "code",
   "execution_count": 87,
   "metadata": {},
   "outputs": [
    {
     "name": "stdout",
     "output_type": "stream",
     "text": [
      "AxesSubplot(0.125,0.125;0.775x0.755)\n",
      "AxesSubplot(0.125,0.125;0.775x0.755)\n",
      "AxesSubplot(0.125,0.125;0.775x0.755)\n",
      "AxesSubplot(0.125,0.125;0.775x0.755)\n",
      "AxesSubplot(0.125,0.125;0.775x0.755)\n",
      "AxesSubplot(0.125,0.125;0.775x0.755)\n"
     ]
    },
    {
     "data": {
      "image/png": "[encoded data removed]",
      "text/plain": [
       "<Figure size 432x288 with 1 Axes>"
      ]
     },
     "metadata": {
      "needs_background": "light"
     },
     "output_type": "display_data"
    }
   ],
   "source": [
    "col =['TotalSpendinMonths1and2of2017','TotalDataSpend','TotalDataConsumption',\n",
    "      'Customertenureinmonth','TotalOnnetspend','TotalOffnetspend']\n",
    "for i in col:\n",
    "    Outlier_Imputation(i)"
   ]
  },
  {
   "cell_type": "code",
   "execution_count": 88,
   "metadata": {},
   "outputs": [
    {
     "data": {
      "image/png": "[encoded data removed]",
      "text/plain": [
       "<Figure size 1296x864 with 6 Axes>"
      ]
     },
     "metadata": {
      "needs_background": "light"
     },
     "output_type": "display_data"
    }
   ],
   "source": [
    "fig, axs = plt.subplots(2,3, figsize = (18,12))\n",
    "\n",
    "sns.boxplot(data['TotalSpendinMonths1and2of2017'], ax = axs[0][0])\n",
    "sns.boxplot(data['TotalDataSpend'], ax = axs[0][1])\n",
    "sns.boxplot(data['TotalDataConsumption'], ax = axs[0][2])\n",
    "\n",
    "sns.boxplot(data['Customertenureinmonth'], ax = axs[1][0])\n",
    "sns.boxplot(data['TotalOnnetspend'], ax = axs[1][1])\n",
    "sns.boxplot(data['TotalOffnetspend'], ax = axs[1][2])\n",
    "\n",
    "\n",
    "plt.tight_layout\n",
    "plt.show()"
   ]
  },
  {
   "cell_type": "markdown",
   "metadata": {},
   "source": [
    "All outliers are imputed"
   ]
  },
  {
   "cell_type": "code",
   "execution_count": 98,
   "metadata": {},
   "outputs": [
    {
     "data": {
      "text/plain": [
       "Index(['NetworktypesubscriptioninMonth1', 'NetworktypesubscriptioninMonth2',\n",
       "       'MostLovedCompetitornetworkininMonth1',\n",
       "       'MostLovedCompetitornetworkininMonth2'],\n",
       "      dtype='object')"
      ]
     },
     "execution_count": 98,
     "metadata": {},
     "output_type": "execute_result"
    }
   ],
   "source": [
    "#Categorical Column\n",
    "\n",
    "cat_cols=data.select_dtypes(exclude=['int64', 'float']).columns[1:]\n",
    "cat_cols"
   ]
  },
  {
   "cell_type": "code",
   "execution_count": 104,
   "metadata": {},
   "outputs": [
    {
     "data": {
      "text/plain": [
       "[['NetworktypesubscriptioninMonth1', 'NetworktypesubscriptioninMonth2'],\n",
       " ['NetworktypesubscriptioninMonth1', 'MostLovedCompetitornetworkininMonth1'],\n",
       " ['NetworktypesubscriptioninMonth1', 'MostLovedCompetitornetworkininMonth2'],\n",
       " ['NetworktypesubscriptioninMonth2', 'MostLovedCompetitornetworkininMonth1'],\n",
       " ['NetworktypesubscriptioninMonth2', 'MostLovedCompetitornetworkininMonth2'],\n",
       " ['MostLovedCompetitornetworkininMonth1',\n",
       "  'MostLovedCompetitornetworkininMonth2']]"
      ]
     },
     "execution_count": 104,
     "metadata": {},
     "output_type": "execute_result"
    }
   ],
   "source": [
    "import scipy.stats\n",
    "\n",
    "\n",
    "chi_df=pd.DataFrame(columns=cat_cols,index=cat_cols)\n",
    "\n",
    "for idx in cat_cols:\n",
    "    rec=[]\n",
    "    for col2 in cat_cols:\n",
    "        df=pd.crosstab(data[idx],data[col2])\n",
    "        chi= scipy.stats.chi2_contingency(df)\n",
    "        rec.append(chi[1])\n",
    "    chi_df.loc[idx] = rec\n",
    "    \n",
    "\n",
    "#List the items which have probability value <0.5\n",
    "dep_variables=[[]]\n",
    "\n",
    "for i in chi_df.columns:\n",
    "    val=0\n",
    "    for j in chi_df.columns:\n",
    "        if i!=j:\n",
    "            if chi_df[i][j]<0.5:\n",
    "                for val in dep_variables:    \n",
    "                          if ([i,j] not in dep_variables) and (([j,i] not in dep_variables)):\n",
    "                             dep_variables.append([i,j])\n",
    "          \n",
    "del dep_variables[0] #Delete empty list [ ]from this list\n",
    "dep_variables\n",
    "\n"
   ]
  },
  {
   "cell_type": "markdown",
   "metadata": {},
   "source": [
    "Each and Evaery variable depends on another"
   ]
  },
  {
   "cell_type": "code",
   "execution_count": 105,
   "metadata": {},
   "outputs": [
    {
     "data": {
      "text/html": [
       "<div>\n",
       "<style scoped>\n",
       "    .dataframe tbody tr th:only-of-type {\n",
       "        vertical-align: middle;\n",
       "    }\n",
       "\n",
       "    .dataframe tbody tr th {\n",
       "        vertical-align: top;\n",
       "    }\n",
       "\n",
       "    .dataframe thead th {\n",
       "        text-align: right;\n",
       "    }\n",
       "</style>\n",
       "<table border=\"1\" class=\"dataframe\">\n",
       "  <thead>\n",
       "    <tr style=\"text-align: right;\">\n",
       "      <th></th>\n",
       "      <th>CustomerID</th>\n",
       "      <th>network_age</th>\n",
       "      <th>Customertenureinmonth</th>\n",
       "      <th>TotalSpendinMonths1and2of2017</th>\n",
       "      <th>TotalSMSSpend</th>\n",
       "      <th>TotalDataSpend</th>\n",
       "      <th>TotalDataConsumption</th>\n",
       "      <th>TotalUniqueCalls</th>\n",
       "      <th>TotalOnnetspend</th>\n",
       "      <th>TotalOffnetspend</th>\n",
       "      <th>TotalCallcentrecomplaintcalls</th>\n",
       "      <th>NetworktypesubscriptioninMonth1</th>\n",
       "      <th>NetworktypesubscriptioninMonth2</th>\n",
       "      <th>MostLovedCompetitornetworkininMonth1</th>\n",
       "      <th>MostLovedCompetitornetworkininMonth2</th>\n",
       "      <th>ChurnStatus</th>\n",
       "    </tr>\n",
       "  </thead>\n",
       "  <tbody>\n",
       "    <tr>\n",
       "      <td>0</td>\n",
       "      <td>ADF0039</td>\n",
       "      <td>123.0</td>\n",
       "      <td>4.10</td>\n",
       "      <td>76.7140</td>\n",
       "      <td>0.00</td>\n",
       "      <td>1.250000</td>\n",
       "      <td>1.4951</td>\n",
       "      <td>14.0</td>\n",
       "      <td>564.0</td>\n",
       "      <td>6408.0</td>\n",
       "      <td>2.0</td>\n",
       "      <td>2G</td>\n",
       "      <td>2G</td>\n",
       "      <td>Uxaa</td>\n",
       "      <td>Mango</td>\n",
       "      <td>0.0</td>\n",
       "    </tr>\n",
       "    <tr>\n",
       "      <td>1</td>\n",
       "      <td>ADF0041</td>\n",
       "      <td>1316.0</td>\n",
       "      <td>43.87</td>\n",
       "      <td>98.8904</td>\n",
       "      <td>4.14</td>\n",
       "      <td>1.250000</td>\n",
       "      <td>1.0244</td>\n",
       "      <td>27.0</td>\n",
       "      <td>1626.0</td>\n",
       "      <td>4373.0</td>\n",
       "      <td>1.0</td>\n",
       "      <td>2G</td>\n",
       "      <td>2G</td>\n",
       "      <td>Uxaa</td>\n",
       "      <td>Mango</td>\n",
       "      <td>0.0</td>\n",
       "    </tr>\n",
       "    <tr>\n",
       "      <td>2</td>\n",
       "      <td>ADF0051</td>\n",
       "      <td>2385.0</td>\n",
       "      <td>79.50</td>\n",
       "      <td>372.6300</td>\n",
       "      <td>3.51</td>\n",
       "      <td>1.250000</td>\n",
       "      <td>6.0898</td>\n",
       "      <td>119.0</td>\n",
       "      <td>10411.0</td>\n",
       "      <td>22039.0</td>\n",
       "      <td>1.0</td>\n",
       "      <td>2G</td>\n",
       "      <td>2G</td>\n",
       "      <td>Weematel</td>\n",
       "      <td>Mango</td>\n",
       "      <td>0.0</td>\n",
       "    </tr>\n",
       "    <tr>\n",
       "      <td>3</td>\n",
       "      <td>ADF0059</td>\n",
       "      <td>1614.0</td>\n",
       "      <td>53.80</td>\n",
       "      <td>530.2000</td>\n",
       "      <td>6.85</td>\n",
       "      <td>1.250000</td>\n",
       "      <td>3.3447</td>\n",
       "      <td>69.0</td>\n",
       "      <td>6822.0</td>\n",
       "      <td>6274.0</td>\n",
       "      <td>1.0</td>\n",
       "      <td>2G</td>\n",
       "      <td>2G</td>\n",
       "      <td>0</td>\n",
       "      <td>Mango</td>\n",
       "      <td>0.0</td>\n",
       "    </tr>\n",
       "    <tr>\n",
       "      <td>4</td>\n",
       "      <td>ADF0060</td>\n",
       "      <td>2175.0</td>\n",
       "      <td>72.50</td>\n",
       "      <td>554.1300</td>\n",
       "      <td>6.99</td>\n",
       "      <td>58.434746</td>\n",
       "      <td>673204.0342</td>\n",
       "      <td>33.0</td>\n",
       "      <td>3387.0</td>\n",
       "      <td>7241.0</td>\n",
       "      <td>1.0</td>\n",
       "      <td>2G</td>\n",
       "      <td>3G</td>\n",
       "      <td>Weematel</td>\n",
       "      <td>Mango</td>\n",
       "      <td>0.0</td>\n",
       "    </tr>\n",
       "  </tbody>\n",
       "</table>\n",
       "</div>"
      ],
      "text/plain": [
       "  CustomerID  network_age  Customertenureinmonth  \\\n",
       "0    ADF0039        123.0                   4.10   \n",
       "1    ADF0041       1316.0                  43.87   \n",
       "2    ADF0051       2385.0                  79.50   \n",
       "3    ADF0059       1614.0                  53.80   \n",
       "4    ADF0060       2175.0                  72.50   \n",
       "\n",
       "   TotalSpendinMonths1and2of2017  TotalSMSSpend  TotalDataSpend  \\\n",
       "0                        76.7140           0.00        1.250000   \n",
       "1                        98.8904           4.14        1.250000   \n",
       "2                       372.6300           3.51        1.250000   \n",
       "3                       530.2000           6.85        1.250000   \n",
       "4                       554.1300           6.99       58.434746   \n",
       "\n",
       "   TotalDataConsumption  TotalUniqueCalls  TotalOnnetspend  TotalOffnetspend  \\\n",
       "0                1.4951              14.0            564.0            6408.0   \n",
       "1                1.0244              27.0           1626.0            4373.0   \n",
       "2                6.0898             119.0          10411.0           22039.0   \n",
       "3                3.3447              69.0           6822.0            6274.0   \n",
       "4           673204.0342              33.0           3387.0            7241.0   \n",
       "\n",
       "   TotalCallcentrecomplaintcalls NetworktypesubscriptioninMonth1  \\\n",
       "0                            2.0                              2G   \n",
       "1                            1.0                              2G   \n",
       "2                            1.0                              2G   \n",
       "3                            1.0                              2G   \n",
       "4                            1.0                              2G   \n",
       "\n",
       "  NetworktypesubscriptioninMonth2 MostLovedCompetitornetworkininMonth1  \\\n",
       "0                              2G                                 Uxaa   \n",
       "1                              2G                                 Uxaa   \n",
       "2                              2G                             Weematel   \n",
       "3                              2G                                    0   \n",
       "4                              3G                             Weematel   \n",
       "\n",
       "  MostLovedCompetitornetworkininMonth2  ChurnStatus  \n",
       "0                                Mango          0.0  \n",
       "1                                Mango          0.0  \n",
       "2                                Mango          0.0  \n",
       "3                                Mango          0.0  \n",
       "4                                Mango          0.0  "
      ]
     },
     "execution_count": 105,
     "metadata": {},
     "output_type": "execute_result"
    }
   ],
   "source": [
    "data.head()"
   ]
  },
  {
   "cell_type": "code",
   "execution_count": 108,
   "metadata": {},
   "outputs": [
    {
     "data": {
      "text/html": [
       "<div>\n",
       "<style scoped>\n",
       "    .dataframe tbody tr th:only-of-type {\n",
       "        vertical-align: middle;\n",
       "    }\n",
       "\n",
       "    .dataframe tbody tr th {\n",
       "        vertical-align: top;\n",
       "    }\n",
       "\n",
       "    .dataframe thead th {\n",
       "        text-align: right;\n",
       "    }\n",
       "</style>\n",
       "<table border=\"1\" class=\"dataframe\">\n",
       "  <thead>\n",
       "    <tr style=\"text-align: right;\">\n",
       "      <th></th>\n",
       "      <th>CustomerID</th>\n",
       "      <th>network_age</th>\n",
       "      <th>Customertenureinmonth</th>\n",
       "      <th>TotalSpendinMonths1and2of2017</th>\n",
       "      <th>TotalSMSSpend</th>\n",
       "      <th>TotalDataSpend</th>\n",
       "      <th>TotalDataConsumption</th>\n",
       "      <th>TotalUniqueCalls</th>\n",
       "      <th>TotalOnnetspend</th>\n",
       "      <th>TotalOffnetspend</th>\n",
       "      <th>TotalCallcentrecomplaintcalls</th>\n",
       "      <th>ChurnStatus</th>\n",
       "      <th>NetworktypesubscriptioninMonth1_2G</th>\n",
       "      <th>NetworktypesubscriptioninMonth1_3G</th>\n",
       "      <th>NetworktypesubscriptioninMonth1_Other</th>\n",
       "      <th>NetworktypesubscriptioninMonth2_2G</th>\n",
       "      <th>NetworktypesubscriptioninMonth2_3G</th>\n",
       "      <th>NetworktypesubscriptioninMonth2_Other</th>\n",
       "      <th>MostLovedCompetitornetworkininMonth1_0</th>\n",
       "      <th>MostLovedCompetitornetworkininMonth1_Mango</th>\n",
       "      <th>MostLovedCompetitornetworkininMonth1_PQza</th>\n",
       "      <th>MostLovedCompetitornetworkininMonth1_ToCall</th>\n",
       "      <th>MostLovedCompetitornetworkininMonth1_Uxaa</th>\n",
       "      <th>MostLovedCompetitornetworkininMonth1_Weematel</th>\n",
       "      <th>MostLovedCompetitornetworkininMonth1_Zintel</th>\n",
       "      <th>MostLovedCompetitornetworkininMonth2_Mango</th>\n",
       "      <th>MostLovedCompetitornetworkininMonth2_PQza</th>\n",
       "      <th>MostLovedCompetitornetworkininMonth2_ToCall</th>\n",
       "      <th>MostLovedCompetitornetworkininMonth2_Uxaa</th>\n",
       "      <th>MostLovedCompetitornetworkininMonth2_Weematel</th>\n",
       "      <th>MostLovedCompetitornetworkininMonth2_Zintel</th>\n",
       "    </tr>\n",
       "  </thead>\n",
       "  <tbody>\n",
       "    <tr>\n",
       "      <td>0</td>\n",
       "      <td>ADF0039</td>\n",
       "      <td>123.0</td>\n",
       "      <td>4.10</td>\n",
       "      <td>76.7140</td>\n",
       "      <td>0.00</td>\n",
       "      <td>1.250000</td>\n",
       "      <td>1.4951</td>\n",
       "      <td>14.0</td>\n",
       "      <td>564.0</td>\n",
       "      <td>6408.0</td>\n",
       "      <td>2.0</td>\n",
       "      <td>0.0</td>\n",
       "      <td>1</td>\n",
       "      <td>0</td>\n",
       "      <td>0</td>\n",
       "      <td>1</td>\n",
       "      <td>0</td>\n",
       "      <td>0</td>\n",
       "      <td>0</td>\n",
       "      <td>0</td>\n",
       "      <td>0</td>\n",
       "      <td>0</td>\n",
       "      <td>1</td>\n",
       "      <td>0</td>\n",
       "      <td>0</td>\n",
       "      <td>1</td>\n",
       "      <td>0</td>\n",
       "      <td>0</td>\n",
       "      <td>0</td>\n",
       "      <td>0</td>\n",
       "      <td>0</td>\n",
       "    </tr>\n",
       "    <tr>\n",
       "      <td>1</td>\n",
       "      <td>ADF0041</td>\n",
       "      <td>1316.0</td>\n",
       "      <td>43.87</td>\n",
       "      <td>98.8904</td>\n",
       "      <td>4.14</td>\n",
       "      <td>1.250000</td>\n",
       "      <td>1.0244</td>\n",
       "      <td>27.0</td>\n",
       "      <td>1626.0</td>\n",
       "      <td>4373.0</td>\n",
       "      <td>1.0</td>\n",
       "      <td>0.0</td>\n",
       "      <td>1</td>\n",
       "      <td>0</td>\n",
       "      <td>0</td>\n",
       "      <td>1</td>\n",
       "      <td>0</td>\n",
       "      <td>0</td>\n",
       "      <td>0</td>\n",
       "      <td>0</td>\n",
       "      <td>0</td>\n",
       "      <td>0</td>\n",
       "      <td>1</td>\n",
       "      <td>0</td>\n",
       "      <td>0</td>\n",
       "      <td>1</td>\n",
       "      <td>0</td>\n",
       "      <td>0</td>\n",
       "      <td>0</td>\n",
       "      <td>0</td>\n",
       "      <td>0</td>\n",
       "    </tr>\n",
       "    <tr>\n",
       "      <td>2</td>\n",
       "      <td>ADF0051</td>\n",
       "      <td>2385.0</td>\n",
       "      <td>79.50</td>\n",
       "      <td>372.6300</td>\n",
       "      <td>3.51</td>\n",
       "      <td>1.250000</td>\n",
       "      <td>6.0898</td>\n",
       "      <td>119.0</td>\n",
       "      <td>10411.0</td>\n",
       "      <td>22039.0</td>\n",
       "      <td>1.0</td>\n",
       "      <td>0.0</td>\n",
       "      <td>1</td>\n",
       "      <td>0</td>\n",
       "      <td>0</td>\n",
       "      <td>1</td>\n",
       "      <td>0</td>\n",
       "      <td>0</td>\n",
       "      <td>0</td>\n",
       "      <td>0</td>\n",
       "      <td>0</td>\n",
       "      <td>0</td>\n",
       "      <td>0</td>\n",
       "      <td>1</td>\n",
       "      <td>0</td>\n",
       "      <td>1</td>\n",
       "      <td>0</td>\n",
       "      <td>0</td>\n",
       "      <td>0</td>\n",
       "      <td>0</td>\n",
       "      <td>0</td>\n",
       "    </tr>\n",
       "    <tr>\n",
       "      <td>3</td>\n",
       "      <td>ADF0059</td>\n",
       "      <td>1614.0</td>\n",
       "      <td>53.80</td>\n",
       "      <td>530.2000</td>\n",
       "      <td>6.85</td>\n",
       "      <td>1.250000</td>\n",
       "      <td>3.3447</td>\n",
       "      <td>69.0</td>\n",
       "      <td>6822.0</td>\n",
       "      <td>6274.0</td>\n",
       "      <td>1.0</td>\n",
       "      <td>0.0</td>\n",
       "      <td>1</td>\n",
       "      <td>0</td>\n",
       "      <td>0</td>\n",
       "      <td>1</td>\n",
       "      <td>0</td>\n",
       "      <td>0</td>\n",
       "      <td>1</td>\n",
       "      <td>0</td>\n",
       "      <td>0</td>\n",
       "      <td>0</td>\n",
       "      <td>0</td>\n",
       "      <td>0</td>\n",
       "      <td>0</td>\n",
       "      <td>1</td>\n",
       "      <td>0</td>\n",
       "      <td>0</td>\n",
       "      <td>0</td>\n",
       "      <td>0</td>\n",
       "      <td>0</td>\n",
       "    </tr>\n",
       "    <tr>\n",
       "      <td>4</td>\n",
       "      <td>ADF0060</td>\n",
       "      <td>2175.0</td>\n",
       "      <td>72.50</td>\n",
       "      <td>554.1300</td>\n",
       "      <td>6.99</td>\n",
       "      <td>58.434746</td>\n",
       "      <td>673204.0342</td>\n",
       "      <td>33.0</td>\n",
       "      <td>3387.0</td>\n",
       "      <td>7241.0</td>\n",
       "      <td>1.0</td>\n",
       "      <td>0.0</td>\n",
       "      <td>1</td>\n",
       "      <td>0</td>\n",
       "      <td>0</td>\n",
       "      <td>0</td>\n",
       "      <td>1</td>\n",
       "      <td>0</td>\n",
       "      <td>0</td>\n",
       "      <td>0</td>\n",
       "      <td>0</td>\n",
       "      <td>0</td>\n",
       "      <td>0</td>\n",
       "      <td>1</td>\n",
       "      <td>0</td>\n",
       "      <td>1</td>\n",
       "      <td>0</td>\n",
       "      <td>0</td>\n",
       "      <td>0</td>\n",
       "      <td>0</td>\n",
       "      <td>0</td>\n",
       "    </tr>\n",
       "  </tbody>\n",
       "</table>\n",
       "</div>"
      ],
      "text/plain": [
       "  CustomerID  network_age  Customertenureinmonth  \\\n",
       "0    ADF0039        123.0                   4.10   \n",
       "1    ADF0041       1316.0                  43.87   \n",
       "2    ADF0051       2385.0                  79.50   \n",
       "3    ADF0059       1614.0                  53.80   \n",
       "4    ADF0060       2175.0                  72.50   \n",
       "\n",
       "   TotalSpendinMonths1and2of2017  TotalSMSSpend  TotalDataSpend  \\\n",
       "0                        76.7140           0.00        1.250000   \n",
       "1                        98.8904           4.14        1.250000   \n",
       "2                       372.6300           3.51        1.250000   \n",
       "3                       530.2000           6.85        1.250000   \n",
       "4                       554.1300           6.99       58.434746   \n",
       "\n",
       "   TotalDataConsumption  TotalUniqueCalls  TotalOnnetspend  TotalOffnetspend  \\\n",
       "0                1.4951              14.0            564.0            6408.0   \n",
       "1                1.0244              27.0           1626.0            4373.0   \n",
       "2                6.0898             119.0          10411.0           22039.0   \n",
       "3                3.3447              69.0           6822.0            6274.0   \n",
       "4           673204.0342              33.0           3387.0            7241.0   \n",
       "\n",
       "   TotalCallcentrecomplaintcalls  ChurnStatus  \\\n",
       "0                            2.0          0.0   \n",
       "1                            1.0          0.0   \n",
       "2                            1.0          0.0   \n",
       "3                            1.0          0.0   \n",
       "4                            1.0          0.0   \n",
       "\n",
       "   NetworktypesubscriptioninMonth1_2G  NetworktypesubscriptioninMonth1_3G  \\\n",
       "0                                   1                                   0   \n",
       "1                                   1                                   0   \n",
       "2                                   1                                   0   \n",
       "3                                   1                                   0   \n",
       "4                                   1                                   0   \n",
       "\n",
       "   NetworktypesubscriptioninMonth1_Other  NetworktypesubscriptioninMonth2_2G  \\\n",
       "0                                      0                                   1   \n",
       "1                                      0                                   1   \n",
       "2                                      0                                   1   \n",
       "3                                      0                                   1   \n",
       "4                                      0                                   0   \n",
       "\n",
       "   NetworktypesubscriptioninMonth2_3G  NetworktypesubscriptioninMonth2_Other  \\\n",
       "0                                   0                                      0   \n",
       "1                                   0                                      0   \n",
       "2                                   0                                      0   \n",
       "3                                   0                                      0   \n",
       "4                                   1                                      0   \n",
       "\n",
       "   MostLovedCompetitornetworkininMonth1_0  \\\n",
       "0                                       0   \n",
       "1                                       0   \n",
       "2                                       0   \n",
       "3                                       1   \n",
       "4                                       0   \n",
       "\n",
       "   MostLovedCompetitornetworkininMonth1_Mango  \\\n",
       "0                                           0   \n",
       "1                                           0   \n",
       "2                                           0   \n",
       "3                                           0   \n",
       "4                                           0   \n",
       "\n",
       "   MostLovedCompetitornetworkininMonth1_PQza  \\\n",
       "0                                          0   \n",
       "1                                          0   \n",
       "2                                          0   \n",
       "3                                          0   \n",
       "4                                          0   \n",
       "\n",
       "   MostLovedCompetitornetworkininMonth1_ToCall  \\\n",
       "0                                            0   \n",
       "1                                            0   \n",
       "2                                            0   \n",
       "3                                            0   \n",
       "4                                            0   \n",
       "\n",
       "   MostLovedCompetitornetworkininMonth1_Uxaa  \\\n",
       "0                                          1   \n",
       "1                                          1   \n",
       "2                                          0   \n",
       "3                                          0   \n",
       "4                                          0   \n",
       "\n",
       "   MostLovedCompetitornetworkininMonth1_Weematel  \\\n",
       "0                                              0   \n",
       "1                                              0   \n",
       "2                                              1   \n",
       "3                                              0   \n",
       "4                                              1   \n",
       "\n",
       "   MostLovedCompetitornetworkininMonth1_Zintel  \\\n",
       "0                                            0   \n",
       "1                                            0   \n",
       "2                                            0   \n",
       "3                                            0   \n",
       "4                                            0   \n",
       "\n",
       "   MostLovedCompetitornetworkininMonth2_Mango  \\\n",
       "0                                           1   \n",
       "1                                           1   \n",
       "2                                           1   \n",
       "3                                           1   \n",
       "4                                           1   \n",
       "\n",
       "   MostLovedCompetitornetworkininMonth2_PQza  \\\n",
       "0                                          0   \n",
       "1                                          0   \n",
       "2                                          0   \n",
       "3                                          0   \n",
       "4                                          0   \n",
       "\n",
       "   MostLovedCompetitornetworkininMonth2_ToCall  \\\n",
       "0                                            0   \n",
       "1                                            0   \n",
       "2                                            0   \n",
       "3                                            0   \n",
       "4                                            0   \n",
       "\n",
       "   MostLovedCompetitornetworkininMonth2_Uxaa  \\\n",
       "0                                          0   \n",
       "1                                          0   \n",
       "2                                          0   \n",
       "3                                          0   \n",
       "4                                          0   \n",
       "\n",
       "   MostLovedCompetitornetworkininMonth2_Weematel  \\\n",
       "0                                              0   \n",
       "1                                              0   \n",
       "2                                              0   \n",
       "3                                              0   \n",
       "4                                              0   \n",
       "\n",
       "   MostLovedCompetitornetworkininMonth2_Zintel  \n",
       "0                                            0  \n",
       "1                                            0  \n",
       "2                                            0  \n",
       "3                                            0  \n",
       "4                                            0  "
      ]
     },
     "execution_count": 108,
     "metadata": {},
     "output_type": "execute_result"
    }
   ],
   "source": [
    "#One Hot Encoding\n",
    "\n",
    "from sklearn.preprocessing import OneHotEncoder\n",
    "\n",
    "data1 = pd.get_dummies(data ,columns = cat_cols )\n",
    "\n",
    "data1.head()"
   ]
  },
  {
   "cell_type": "code",
   "execution_count": 109,
   "metadata": {},
   "outputs": [],
   "source": [
    "#Remove CustomerID\n",
    "data2 =data1.drop('CustomerID', axis =1)"
   ]
  },
  {
   "cell_type": "code",
   "execution_count": 111,
   "metadata": {},
   "outputs": [
    {
     "data": {
      "text/plain": [
       "network_age                                     -0.123818\n",
       "Customertenureinmonth                           -0.115515\n",
       "TotalSpendinMonths1and2of2017                   -0.110879\n",
       "TotalSMSSpend                                    0.098836\n",
       "TotalDataSpend                                  -0.059129\n",
       "TotalDataConsumption                            -0.156914\n",
       "TotalUniqueCalls                                -0.134596\n",
       "TotalOnnetspend                                 -0.127067\n",
       "TotalOffnetspend                                 0.042971\n",
       "TotalCallcentrecomplaintcalls                   -0.071902\n",
       "ChurnStatus                                      1.000000\n",
       "NetworktypesubscriptioninMonth1_2G               0.011771\n",
       "NetworktypesubscriptioninMonth1_3G              -0.046589\n",
       "NetworktypesubscriptioninMonth1_Other            0.039060\n",
       "NetworktypesubscriptioninMonth2_2G               0.015655\n",
       "NetworktypesubscriptioninMonth2_3G              -0.067904\n",
       "NetworktypesubscriptioninMonth2_Other            0.059982\n",
       "MostLovedCompetitornetworkininMonth1_0          -0.061681\n",
       "MostLovedCompetitornetworkininMonth1_Mango       0.036161\n",
       "MostLovedCompetitornetworkininMonth1_PQza        0.119585\n",
       "MostLovedCompetitornetworkininMonth1_ToCall     -0.028765\n",
       "MostLovedCompetitornetworkininMonth1_Uxaa       -0.030892\n",
       "MostLovedCompetitornetworkininMonth1_Weematel   -0.036080\n",
       "MostLovedCompetitornetworkininMonth1_Zintel     -0.064563\n",
       "MostLovedCompetitornetworkininMonth2_Mango       0.096466\n",
       "MostLovedCompetitornetworkininMonth2_PQza        0.216982\n",
       "MostLovedCompetitornetworkininMonth2_ToCall      0.081951\n",
       "MostLovedCompetitornetworkininMonth2_Uxaa       -0.316541\n",
       "MostLovedCompetitornetworkininMonth2_Weematel    0.079953\n",
       "MostLovedCompetitornetworkininMonth2_Zintel      0.047969\n",
       "Name: ChurnStatus, dtype: float64"
      ]
     },
     "execution_count": 111,
     "metadata": {},
     "output_type": "execute_result"
    }
   ],
   "source": [
    "cr = data2.corr()\n",
    "cr.ChurnStatus"
   ]
  },
  {
   "cell_type": "code",
   "execution_count": 115,
   "metadata": {},
   "outputs": [],
   "source": [
    "#Data Partition\n",
    "\n",
    "X = data2.drop('ChurnStatus', axis =1)\n",
    "y = data2['ChurnStatus']"
   ]
  },
  {
   "cell_type": "code",
   "execution_count": 116,
   "metadata": {},
   "outputs": [
    {
     "data": {
      "text/html": [
       "<div>\n",
       "<style scoped>\n",
       "    .dataframe tbody tr th:only-of-type {\n",
       "        vertical-align: middle;\n",
       "    }\n",
       "\n",
       "    .dataframe tbody tr th {\n",
       "        vertical-align: top;\n",
       "    }\n",
       "\n",
       "    .dataframe thead th {\n",
       "        text-align: right;\n",
       "    }\n",
       "</style>\n",
       "<table border=\"1\" class=\"dataframe\">\n",
       "  <thead>\n",
       "    <tr style=\"text-align: right;\">\n",
       "      <th></th>\n",
       "      <th>network_age</th>\n",
       "      <th>Customertenureinmonth</th>\n",
       "      <th>TotalSpendinMonths1and2of2017</th>\n",
       "      <th>TotalSMSSpend</th>\n",
       "      <th>TotalDataSpend</th>\n",
       "      <th>TotalDataConsumption</th>\n",
       "      <th>TotalUniqueCalls</th>\n",
       "      <th>TotalOnnetspend</th>\n",
       "      <th>TotalOffnetspend</th>\n",
       "      <th>TotalCallcentrecomplaintcalls</th>\n",
       "      <th>NetworktypesubscriptioninMonth1_2G</th>\n",
       "      <th>NetworktypesubscriptioninMonth1_3G</th>\n",
       "      <th>NetworktypesubscriptioninMonth1_Other</th>\n",
       "      <th>NetworktypesubscriptioninMonth2_2G</th>\n",
       "      <th>NetworktypesubscriptioninMonth2_3G</th>\n",
       "      <th>NetworktypesubscriptioninMonth2_Other</th>\n",
       "      <th>MostLovedCompetitornetworkininMonth1_0</th>\n",
       "      <th>MostLovedCompetitornetworkininMonth1_Mango</th>\n",
       "      <th>MostLovedCompetitornetworkininMonth1_PQza</th>\n",
       "      <th>MostLovedCompetitornetworkininMonth1_ToCall</th>\n",
       "      <th>MostLovedCompetitornetworkininMonth1_Uxaa</th>\n",
       "      <th>MostLovedCompetitornetworkininMonth1_Weematel</th>\n",
       "      <th>MostLovedCompetitornetworkininMonth1_Zintel</th>\n",
       "      <th>MostLovedCompetitornetworkininMonth2_Mango</th>\n",
       "      <th>MostLovedCompetitornetworkininMonth2_PQza</th>\n",
       "      <th>MostLovedCompetitornetworkininMonth2_ToCall</th>\n",
       "      <th>MostLovedCompetitornetworkininMonth2_Uxaa</th>\n",
       "      <th>MostLovedCompetitornetworkininMonth2_Weematel</th>\n",
       "      <th>MostLovedCompetitornetworkininMonth2_Zintel</th>\n",
       "    </tr>\n",
       "  </thead>\n",
       "  <tbody>\n",
       "    <tr>\n",
       "      <td>0</td>\n",
       "      <td>0.023460</td>\n",
       "      <td>0.026245</td>\n",
       "      <td>0.031458</td>\n",
       "      <td>0.000000</td>\n",
       "      <td>0.012048</td>\n",
       "      <td>4.781082e-07</td>\n",
       "      <td>0.005010</td>\n",
       "      <td>0.031501</td>\n",
       "      <td>0.205774</td>\n",
       "      <td>0.020833</td>\n",
       "      <td>1.0</td>\n",
       "      <td>0.0</td>\n",
       "      <td>0.0</td>\n",
       "      <td>1.0</td>\n",
       "      <td>0.0</td>\n",
       "      <td>0.0</td>\n",
       "      <td>0.0</td>\n",
       "      <td>0.0</td>\n",
       "      <td>0.0</td>\n",
       "      <td>0.0</td>\n",
       "      <td>1.0</td>\n",
       "      <td>0.0</td>\n",
       "      <td>0.0</td>\n",
       "      <td>1.0</td>\n",
       "      <td>0.0</td>\n",
       "      <td>0.0</td>\n",
       "      <td>0.0</td>\n",
       "      <td>0.0</td>\n",
       "      <td>0.0</td>\n",
       "    </tr>\n",
       "    <tr>\n",
       "      <td>1</td>\n",
       "      <td>0.242119</td>\n",
       "      <td>0.270682</td>\n",
       "      <td>0.041174</td>\n",
       "      <td>0.004737</td>\n",
       "      <td>0.012048</td>\n",
       "      <td>3.214458e-07</td>\n",
       "      <td>0.010019</td>\n",
       "      <td>0.090818</td>\n",
       "      <td>0.140426</td>\n",
       "      <td>0.000000</td>\n",
       "      <td>1.0</td>\n",
       "      <td>0.0</td>\n",
       "      <td>0.0</td>\n",
       "      <td>1.0</td>\n",
       "      <td>0.0</td>\n",
       "      <td>0.0</td>\n",
       "      <td>0.0</td>\n",
       "      <td>0.0</td>\n",
       "      <td>0.0</td>\n",
       "      <td>0.0</td>\n",
       "      <td>1.0</td>\n",
       "      <td>0.0</td>\n",
       "      <td>0.0</td>\n",
       "      <td>1.0</td>\n",
       "      <td>0.0</td>\n",
       "      <td>0.0</td>\n",
       "      <td>0.0</td>\n",
       "      <td>0.0</td>\n",
       "      <td>0.0</td>\n",
       "    </tr>\n",
       "    <tr>\n",
       "      <td>2</td>\n",
       "      <td>0.438050</td>\n",
       "      <td>0.489674</td>\n",
       "      <td>0.161103</td>\n",
       "      <td>0.004016</td>\n",
       "      <td>0.012048</td>\n",
       "      <td>2.007356e-06</td>\n",
       "      <td>0.045472</td>\n",
       "      <td>0.581490</td>\n",
       "      <td>0.707717</td>\n",
       "      <td>0.000000</td>\n",
       "      <td>1.0</td>\n",
       "      <td>0.0</td>\n",
       "      <td>0.0</td>\n",
       "      <td>1.0</td>\n",
       "      <td>0.0</td>\n",
       "      <td>0.0</td>\n",
       "      <td>0.0</td>\n",
       "      <td>0.0</td>\n",
       "      <td>0.0</td>\n",
       "      <td>0.0</td>\n",
       "      <td>0.0</td>\n",
       "      <td>1.0</td>\n",
       "      <td>0.0</td>\n",
       "      <td>1.0</td>\n",
       "      <td>0.0</td>\n",
       "      <td>0.0</td>\n",
       "      <td>0.0</td>\n",
       "      <td>0.0</td>\n",
       "      <td>0.0</td>\n",
       "    </tr>\n",
       "    <tr>\n",
       "      <td>3</td>\n",
       "      <td>0.296738</td>\n",
       "      <td>0.331715</td>\n",
       "      <td>0.230137</td>\n",
       "      <td>0.007838</td>\n",
       "      <td>0.012048</td>\n",
       "      <td>1.093708e-06</td>\n",
       "      <td>0.026204</td>\n",
       "      <td>0.381032</td>\n",
       "      <td>0.201471</td>\n",
       "      <td>0.000000</td>\n",
       "      <td>1.0</td>\n",
       "      <td>0.0</td>\n",
       "      <td>0.0</td>\n",
       "      <td>1.0</td>\n",
       "      <td>0.0</td>\n",
       "      <td>0.0</td>\n",
       "      <td>1.0</td>\n",
       "      <td>0.0</td>\n",
       "      <td>0.0</td>\n",
       "      <td>0.0</td>\n",
       "      <td>0.0</td>\n",
       "      <td>0.0</td>\n",
       "      <td>0.0</td>\n",
       "      <td>1.0</td>\n",
       "      <td>0.0</td>\n",
       "      <td>0.0</td>\n",
       "      <td>0.0</td>\n",
       "      <td>0.0</td>\n",
       "      <td>0.0</td>\n",
       "    </tr>\n",
       "    <tr>\n",
       "      <td>4</td>\n",
       "      <td>0.399560</td>\n",
       "      <td>0.446650</td>\n",
       "      <td>0.240621</td>\n",
       "      <td>0.007998</td>\n",
       "      <td>0.563226</td>\n",
       "      <td>2.240615e-01</td>\n",
       "      <td>0.012331</td>\n",
       "      <td>0.189176</td>\n",
       "      <td>0.232523</td>\n",
       "      <td>0.000000</td>\n",
       "      <td>1.0</td>\n",
       "      <td>0.0</td>\n",
       "      <td>0.0</td>\n",
       "      <td>0.0</td>\n",
       "      <td>1.0</td>\n",
       "      <td>0.0</td>\n",
       "      <td>0.0</td>\n",
       "      <td>0.0</td>\n",
       "      <td>0.0</td>\n",
       "      <td>0.0</td>\n",
       "      <td>0.0</td>\n",
       "      <td>1.0</td>\n",
       "      <td>0.0</td>\n",
       "      <td>1.0</td>\n",
       "      <td>0.0</td>\n",
       "      <td>0.0</td>\n",
       "      <td>0.0</td>\n",
       "      <td>0.0</td>\n",
       "      <td>0.0</td>\n",
       "    </tr>\n",
       "  </tbody>\n",
       "</table>\n",
       "</div>"
      ],
      "text/plain": [
       "   network_age  Customertenureinmonth  TotalSpendinMonths1and2of2017  \\\n",
       "0     0.023460               0.026245                       0.031458   \n",
       "1     0.242119               0.270682                       0.041174   \n",
       "2     0.438050               0.489674                       0.161103   \n",
       "3     0.296738               0.331715                       0.230137   \n",
       "4     0.399560               0.446650                       0.240621   \n",
       "\n",
       "   TotalSMSSpend  TotalDataSpend  TotalDataConsumption  TotalUniqueCalls  \\\n",
       "0       0.000000        0.012048          4.781082e-07          0.005010   \n",
       "1       0.004737        0.012048          3.214458e-07          0.010019   \n",
       "2       0.004016        0.012048          2.007356e-06          0.045472   \n",
       "3       0.007838        0.012048          1.093708e-06          0.026204   \n",
       "4       0.007998        0.563226          2.240615e-01          0.012331   \n",
       "\n",
       "   TotalOnnetspend  TotalOffnetspend  TotalCallcentrecomplaintcalls  \\\n",
       "0         0.031501          0.205774                       0.020833   \n",
       "1         0.090818          0.140426                       0.000000   \n",
       "2         0.581490          0.707717                       0.000000   \n",
       "3         0.381032          0.201471                       0.000000   \n",
       "4         0.189176          0.232523                       0.000000   \n",
       "\n",
       "   NetworktypesubscriptioninMonth1_2G  NetworktypesubscriptioninMonth1_3G  \\\n",
       "0                                 1.0                                 0.0   \n",
       "1                                 1.0                                 0.0   \n",
       "2                                 1.0                                 0.0   \n",
       "3                                 1.0                                 0.0   \n",
       "4                                 1.0                                 0.0   \n",
       "\n",
       "   NetworktypesubscriptioninMonth1_Other  NetworktypesubscriptioninMonth2_2G  \\\n",
       "0                                    0.0                                 1.0   \n",
       "1                                    0.0                                 1.0   \n",
       "2                                    0.0                                 1.0   \n",
       "3                                    0.0                                 1.0   \n",
       "4                                    0.0                                 0.0   \n",
       "\n",
       "   NetworktypesubscriptioninMonth2_3G  NetworktypesubscriptioninMonth2_Other  \\\n",
       "0                                 0.0                                    0.0   \n",
       "1                                 0.0                                    0.0   \n",
       "2                                 0.0                                    0.0   \n",
       "3                                 0.0                                    0.0   \n",
       "4                                 1.0                                    0.0   \n",
       "\n",
       "   MostLovedCompetitornetworkininMonth1_0  \\\n",
       "0                                     0.0   \n",
       "1                                     0.0   \n",
       "2                                     0.0   \n",
       "3                                     1.0   \n",
       "4                                     0.0   \n",
       "\n",
       "   MostLovedCompetitornetworkininMonth1_Mango  \\\n",
       "0                                         0.0   \n",
       "1                                         0.0   \n",
       "2                                         0.0   \n",
       "3                                         0.0   \n",
       "4                                         0.0   \n",
       "\n",
       "   MostLovedCompetitornetworkininMonth1_PQza  \\\n",
       "0                                        0.0   \n",
       "1                                        0.0   \n",
       "2                                        0.0   \n",
       "3                                        0.0   \n",
       "4                                        0.0   \n",
       "\n",
       "   MostLovedCompetitornetworkininMonth1_ToCall  \\\n",
       "0                                          0.0   \n",
       "1                                          0.0   \n",
       "2                                          0.0   \n",
       "3                                          0.0   \n",
       "4                                          0.0   \n",
       "\n",
       "   MostLovedCompetitornetworkininMonth1_Uxaa  \\\n",
       "0                                        1.0   \n",
       "1                                        1.0   \n",
       "2                                        0.0   \n",
       "3                                        0.0   \n",
       "4                                        0.0   \n",
       "\n",
       "   MostLovedCompetitornetworkininMonth1_Weematel  \\\n",
       "0                                            0.0   \n",
       "1                                            0.0   \n",
       "2                                            1.0   \n",
       "3                                            0.0   \n",
       "4                                            1.0   \n",
       "\n",
       "   MostLovedCompetitornetworkininMonth1_Zintel  \\\n",
       "0                                          0.0   \n",
       "1                                          0.0   \n",
       "2                                          0.0   \n",
       "3                                          0.0   \n",
       "4                                          0.0   \n",
       "\n",
       "   MostLovedCompetitornetworkininMonth2_Mango  \\\n",
       "0                                         1.0   \n",
       "1                                         1.0   \n",
       "2                                         1.0   \n",
       "3                                         1.0   \n",
       "4                                         1.0   \n",
       "\n",
       "   MostLovedCompetitornetworkininMonth2_PQza  \\\n",
       "0                                        0.0   \n",
       "1                                        0.0   \n",
       "2                                        0.0   \n",
       "3                                        0.0   \n",
       "4                                        0.0   \n",
       "\n",
       "   MostLovedCompetitornetworkininMonth2_ToCall  \\\n",
       "0                                          0.0   \n",
       "1                                          0.0   \n",
       "2                                          0.0   \n",
       "3                                          0.0   \n",
       "4                                          0.0   \n",
       "\n",
       "   MostLovedCompetitornetworkininMonth2_Uxaa  \\\n",
       "0                                        0.0   \n",
       "1                                        0.0   \n",
       "2                                        0.0   \n",
       "3                                        0.0   \n",
       "4                                        0.0   \n",
       "\n",
       "   MostLovedCompetitornetworkininMonth2_Weematel  \\\n",
       "0                                            0.0   \n",
       "1                                            0.0   \n",
       "2                                            0.0   \n",
       "3                                            0.0   \n",
       "4                                            0.0   \n",
       "\n",
       "   MostLovedCompetitornetworkininMonth2_Zintel  \n",
       "0                                          0.0  \n",
       "1                                          0.0  \n",
       "2                                          0.0  \n",
       "3                                          0.0  \n",
       "4                                          0.0  "
      ]
     },
     "execution_count": 116,
     "metadata": {},
     "output_type": "execute_result"
    }
   ],
   "source": [
    "#Feature Scaling\n",
    "from sklearn.preprocessing import MinMaxScaler\n",
    "norm_x = MinMaxScaler().fit_transform(X)\n",
    "norm_x=pd.DataFrame(norm_x,columns=X.columns)\n",
    "norm_x.head()"
   ]
  },
  {
   "cell_type": "code",
   "execution_count": 117,
   "metadata": {},
   "outputs": [],
   "source": [
    "#Data SPlitting\n",
    "from sklearn.model_selection import train_test_split\n",
    "X_train,X_test,y_train,y_test = train_test_split(norm_x,y,test_size=0.3,random_state=1)"
   ]
  },
  {
   "cell_type": "code",
   "execution_count": 165,
   "metadata": {},
   "outputs": [],
   "source": [
    "#Un normed Data SPlitting\n",
    "from sklearn.model_selection import train_test_split\n",
    "X1_train,X1_test,y_train,y_test = train_test_split(X,y,test_size=0.3,random_state=1)"
   ]
  },
  {
   "cell_type": "markdown",
   "metadata": {},
   "source": [
    "# Model Training\n"
   ]
  },
  {
   "cell_type": "markdown",
   "metadata": {},
   "source": [
    "# Logistic Regression"
   ]
  },
  {
   "cell_type": "code",
   "execution_count": 118,
   "metadata": {},
   "outputs": [
    {
     "name": "stdout",
     "output_type": "stream",
     "text": [
      "Confusion matrix:  \n",
      " [[150  61]\n",
      " [ 93 116]]\n",
      "accuracy_score   :    0.6333333333333333\n"
     ]
    },
    {
     "data": {
      "image/png": "[encoded data removed]",
      "text/plain": [
       "<Figure size 432x288 with 1 Axes>"
      ]
     },
     "metadata": {
      "needs_background": "light"
     },
     "output_type": "display_data"
    }
   ],
   "source": [
    "from sklearn.linear_model import LogisticRegression\n",
    "LG=LogisticRegression()\n",
    "LG.fit(X_train,y_train)\n",
    "\n",
    "y_pred = LG.predict(X_test)\n",
    "\n",
    "from sklearn.metrics import confusion_matrix,accuracy_score,roc_auc_score,roc_curve\n",
    "\n",
    "print('Confusion matrix:  \\n', confusion_matrix(y_test,y_pred))\n",
    "print('accuracy_score   :   ', accuracy_score(y_test,y_pred))\n",
    "\n",
    "fpr, tpr, _ = roc_curve(y_test,  y_pred)\n",
    "auc = roc_auc_score(y_test, y_pred)\n",
    "plt.plot(fpr,tpr,label=\"data 1, auc=\"+str(auc))\n",
    "plt.legend(loc=4)\n",
    "plt.show()"
   ]
  },
  {
   "cell_type": "markdown",
   "metadata": {},
   "source": [
    "# Linear Discriminant Analysis"
   ]
  },
  {
   "cell_type": "code",
   "execution_count": 120,
   "metadata": {},
   "outputs": [
    {
     "name": "stdout",
     "output_type": "stream",
     "text": [
      "Confusion matrix:  \n",
      " [[151  60]\n",
      " [ 94 115]]\n",
      "accuracy_score   :    0.6333333333333333\n"
     ]
    },
    {
     "data": {
      "image/png": "[encoded data removed]",
      "text/plain": [
       "<Figure size 432x288 with 1 Axes>"
      ]
     },
     "metadata": {
      "needs_background": "light"
     },
     "output_type": "display_data"
    }
   ],
   "source": [
    "from sklearn.discriminant_analysis import LinearDiscriminantAnalysis\n",
    "LDM=LinearDiscriminantAnalysis()\n",
    "LDM.fit(X_train,y_train)\n",
    "\n",
    "y_pred = LDM.predict(X_test)\n",
    "\n",
    "from sklearn.metrics import confusion_matrix,accuracy_score,roc_auc_score,roc_curve\n",
    "\n",
    "print('Confusion matrix:  \\n', confusion_matrix(y_test,y_pred))\n",
    "print('accuracy_score   :   ', accuracy_score(y_test,y_pred))\n",
    "\n",
    "fpr, tpr, _ = roc_curve(y_test,  y_pred)\n",
    "auc = roc_auc_score(y_test, y_pred)\n",
    "plt.plot(fpr,tpr,label=\"data 1, auc=\"+str(auc))\n",
    "plt.legend(loc=4)\n",
    "plt.show()"
   ]
  },
  {
   "cell_type": "markdown",
   "metadata": {},
   "source": [
    "# NaiveBayes Classifier\n"
   ]
  },
  {
   "cell_type": "code",
   "execution_count": 122,
   "metadata": {},
   "outputs": [
    {
     "name": "stdout",
     "output_type": "stream",
     "text": [
      "Confusion matrix:  \n",
      " [[159  52]\n",
      " [ 94 115]]\n",
      "accuracy_score   :    0.6523809523809524\n"
     ]
    },
    {
     "data": {
      "image/png": "[encoded data removed]",
      "text/plain": [
       "<Figure size 432x288 with 1 Axes>"
      ]
     },
     "metadata": {
      "needs_background": "light"
     },
     "output_type": "display_data"
    }
   ],
   "source": [
    "\n",
    "from sklearn.naive_bayes import GaussianNB,MultinomialNB ,BernoulliNB ,CategoricalNB\n",
    "GNB=GaussianNB()\n",
    "GNB.fit(X_train,y_train)\n",
    "y_pred =GNB.predict(X_test)\n",
    "print('Confusion matrix:  \\n', confusion_matrix(y_test,y_pred))\n",
    "print('accuracy_score   :   ', accuracy_score(y_test,y_pred))\n",
    "\n",
    "fpr, tpr, _ = roc_curve(y_test,  y_pred)\n",
    "auc = roc_auc_score(y_test, y_pred)\n",
    "plt.plot(fpr,tpr,label=\"data 1, auc=\"+str(auc))\n",
    "plt.legend(loc=4)\n",
    "plt.show()"
   ]
  },
  {
   "cell_type": "code",
   "execution_count": 123,
   "metadata": {},
   "outputs": [
    {
     "name": "stdout",
     "output_type": "stream",
     "text": [
      "Confusion matrix:  \n",
      " [[159  52]\n",
      " [100 109]]\n",
      "accuracy_score   :    0.638095238095238\n"
     ]
    },
    {
     "data": {
      "image/png": "[encoded data removed]",
      "text/plain": [
       "<Figure size 432x288 with 1 Axes>"
      ]
     },
     "metadata": {
      "needs_background": "light"
     },
     "output_type": "display_data"
    }
   ],
   "source": [
    "from sklearn.naive_bayes import GaussianNB,MultinomialNB ,BernoulliNB ,CategoricalNB\n",
    "GNB=BernoulliNB()\n",
    "GNB.fit(X_train,y_train)\n",
    "y_pred =GNB.predict(X_test)\n",
    "print('Confusion matrix:  \\n', confusion_matrix(y_test,y_pred))\n",
    "print('accuracy_score   :   ', accuracy_score(y_test,y_pred))\n",
    "\n",
    "fpr, tpr, _ = roc_curve(y_test,  y_pred)\n",
    "auc = roc_auc_score(y_test, y_pred)\n",
    "plt.plot(fpr,tpr,label=\"data 1, auc=\"+str(auc))\n",
    "plt.legend(loc=4)\n",
    "plt.show()"
   ]
  },
  {
   "cell_type": "markdown",
   "metadata": {},
   "source": [
    "# SVM"
   ]
  },
  {
   "cell_type": "code",
   "execution_count": 124,
   "metadata": {},
   "outputs": [
    {
     "name": "stdout",
     "output_type": "stream",
     "text": [
      "Confusion matrix:  \n",
      " [[162  49]\n",
      " [102 107]]\n",
      "accuracy_score   :    0.6404761904761904\n"
     ]
    },
    {
     "data": {
      "image/png": "[encoded data removed]",
      "text/plain": [
       "<Figure size 432x288 with 1 Axes>"
      ]
     },
     "metadata": {
      "needs_background": "light"
     },
     "output_type": "display_data"
    }
   ],
   "source": [
    "#Classifier\n",
    "from sklearn.svm import SVC\n",
    "from sklearn.metrics import accuracy_score\n",
    "\n",
    "SV=SVC(kernel='linear')\n",
    "SV.fit(X_train,y_train)\n",
    "\n",
    "y_pred=SV.predict(X_test)\n",
    "\n",
    "print('Confusion matrix:  \\n', confusion_matrix(y_test,y_pred))\n",
    "print('accuracy_score   :   ', accuracy_score(y_test,y_pred))\n",
    "\n",
    "fpr, tpr, _ = roc_curve(y_test,  y_pred)\n",
    "auc = roc_auc_score(y_test, y_pred)\n",
    "plt.plot(fpr,tpr,label=\"data 1, auc=\"+str(auc))\n",
    "plt.legend(loc=4)\n",
    "plt.show()"
   ]
  },
  {
   "cell_type": "code",
   "execution_count": 131,
   "metadata": {},
   "outputs": [
    {
     "name": "stdout",
     "output_type": "stream",
     "text": [
      "Confusion matrix:  \n",
      " [[143  68]\n",
      " [ 70 139]]\n",
      "accuracy_score   :    0.6714285714285714\n"
     ]
    },
    {
     "data": {
      "image/png": "[encoded data removed]",
      "text/plain": [
       "<Figure size 432x288 with 1 Axes>"
      ]
     },
     "metadata": {
      "needs_background": "light"
     },
     "output_type": "display_data"
    }
   ],
   "source": [
    "#Classifier\n",
    "from sklearn.svm import SVC\n",
    "from sklearn.metrics import accuracy_score\n",
    "\n",
    "SV=SVC(kernel='poly' , degree =8)\n",
    "SV.fit(X_train,y_train)\n",
    "\n",
    "y_pred=SV.predict(X_test)\n",
    "\n",
    "print('Confusion matrix:  \\n', confusion_matrix(y_test,y_pred))\n",
    "print('accuracy_score   :   ', accuracy_score(y_test,y_pred))\n",
    "\n",
    "fpr, tpr, _ = roc_curve(y_test,  y_pred)\n",
    "auc = roc_auc_score(y_test, y_pred)\n",
    "plt.plot(fpr,tpr,label=\"data 1, auc=\"+str(auc))\n",
    "plt.legend(loc=4)\n",
    "plt.show()"
   ]
  },
  {
   "cell_type": "markdown",
   "metadata": {},
   "source": [
    "# KNN"
   ]
  },
  {
   "cell_type": "code",
   "execution_count": 136,
   "metadata": {},
   "outputs": [
    {
     "name": "stdout",
     "output_type": "stream",
     "text": [
      "accuracy scoe at neighbours   1 = 0.6309523809523809\n",
      "accuracy scoe at neighbours   3 = 0.65\n",
      "accuracy scoe at neighbours   5 = 0.6285714285714286\n",
      "accuracy scoe at neighbours   7 = 0.6404761904761904\n",
      "accuracy scoe at neighbours   9 = 0.6523809523809524\n",
      "accuracy scoe at neighbours   11 = 0.6523809523809524\n",
      "accuracy scoe at neighbours   13 = 0.6285714285714286\n",
      "accuracy scoe at neighbours   15 = 0.6309523809523809\n",
      "accuracy scoe at neighbours   17 = 0.6309523809523809\n",
      "accuracy scoe at neighbours   19 = 0.6333333333333333\n",
      "accuracy scoe at neighbours   21 = 0.6357142857142857\n",
      "accuracy scoe at neighbours   23 = 0.6285714285714286\n",
      "accuracy scoe at neighbours   25 = 0.6523809523809524\n",
      "accuracy scoe at neighbours   27 = 0.6476190476190476\n",
      "accuracy scoe at neighbours   29 = 0.6428571428571429\n",
      "accuracy scoe at neighbours   31 = 0.6476190476190476\n",
      "accuracy scoe at neighbours   33 = 0.6428571428571429\n",
      "accuracy scoe at neighbours   35 = 0.6309523809523809\n",
      "accuracy scoe at neighbours   37 = 0.638095238095238\n",
      "accuracy scoe at neighbours   39 = 0.6357142857142857\n",
      "accuracy scoe at neighbours   41 = 0.6452380952380953\n",
      "accuracy scoe at neighbours   43 = 0.6428571428571429\n",
      "accuracy scoe at neighbours   45 = 0.6547619047619048\n",
      "accuracy scoe at neighbours   47 = 0.6523809523809524\n",
      "accuracy scoe at neighbours   49 = 0.6452380952380953\n"
     ]
    }
   ],
   "source": [
    "\n",
    "from sklearn.neighbors import KNeighborsClassifier, KNeighborsRegressor\n",
    "\n",
    "for i in range(1,50,2):\n",
    "    KNN=KNeighborsClassifier(n_neighbors=i)\n",
    "    KNN.fit(X_train,y_train)\n",
    "\n",
    "    y_pred=KNN.predict(X_test)\n",
    "    print('accuracy scoe at neighbours  ',i,'=',accuracy_score(y_pred,y_test))"
   ]
  },
  {
   "cell_type": "markdown",
   "metadata": {},
   "source": [
    "# RFC"
   ]
  },
  {
   "cell_type": "code",
   "execution_count": 167,
   "metadata": {},
   "outputs": [
    {
     "name": "stdout",
     "output_type": "stream",
     "text": [
      "Confusion matrix:  \n",
      " [[175  36]\n",
      " [ 49 160]]\n",
      "accuracy_score   :    0.7976190476190477\n"
     ]
    },
    {
     "data": {
      "image/png": "[encoded data removed]",
      "text/plain": [
       "<Figure size 432x288 with 1 Axes>"
      ]
     },
     "metadata": {
      "needs_background": "light"
     },
     "output_type": "display_data"
    }
   ],
   "source": [
    "from sklearn.ensemble import RandomForestClassifier\n",
    "\n",
    "RFC=RandomForestClassifier(n_estimators=400, max_depth=10 ,bootstrap= True , criterion= 'entropy')\n",
    "\n",
    "RFC.fit(X_train,y_train)\n",
    "\n",
    "y_pred=RFC.predict(X_test)\n",
    "\n",
    "print('Confusion matrix:  \\n', confusion_matrix(y_test,y_pred))\n",
    "print('accuracy_score   :   ', accuracy_score(y_test,y_pred))\n",
    "\n",
    "fpr, tpr, _ = roc_curve(y_test,  y_pred)\n",
    "auc = roc_auc_score(y_test, y_pred)\n",
    "plt.plot(fpr,tpr,label=\"data 1, auc=\"+str(auc))\n",
    "plt.legend(loc=4)\n",
    "plt.show()"
   ]
  },
  {
   "cell_type": "markdown",
   "metadata": {},
   "source": [
    "# Gradient Boost & Classifier"
   ]
  },
  {
   "cell_type": "code",
   "execution_count": 176,
   "metadata": {},
   "outputs": [
    {
     "name": "stdout",
     "output_type": "stream",
     "text": [
      "Confusion matrix:  \n",
      " [[171  40]\n",
      " [ 37 172]]\n",
      "accuracy_score   :    0.8166666666666667\n"
     ]
    },
    {
     "data": {
      "image/png": "[encoded data removed]",
      "text/plain": [
       "<Figure size 432x288 with 1 Axes>"
      ]
     },
     "metadata": {
      "needs_background": "light"
     },
     "output_type": "display_data"
    }
   ],
   "source": [
    "from sklearn.ensemble import GradientBoostingClassifier,GradientBoostingRegressor\n",
    "GBC=GradientBoostingClassifier()\n",
    "GBC.fit(X_train,y_train)\n",
    "y_pred = GBC.predict(X_test)\n",
    "\n",
    "\n",
    "print('Confusion matrix:  \\n', confusion_matrix(y_test,y_pred))\n",
    "print('accuracy_score   :   ', accuracy_score(y_test,y_pred))\n",
    "\n",
    "fpr, tpr, _ = roc_curve(y_test,  y_pred)\n",
    "auc = roc_auc_score(y_test, y_pred)\n",
    "plt.plot(fpr,tpr,label=\"data 1, auc=\"+str(auc))\n",
    "plt.legend(loc=4)\n",
    "plt.show()"
   ]
  },
  {
   "cell_type": "markdown",
   "metadata": {},
   "source": [
    "Lets check     important features"
   ]
  },
  {
   "cell_type": "code",
   "execution_count": 177,
   "metadata": {},
   "outputs": [
    {
     "name": "stdout",
     "output_type": "stream",
     "text": [
      "[1.64356123e-02 2.55679840e-02 5.13202702e-01 9.14186495e-02\n",
      " 2.03618239e-02 2.04457801e-02 4.14493856e-02 4.09148171e-02\n",
      " 1.64221867e-01 8.81157800e-03 2.23996840e-03 2.24891565e-04\n",
      " 4.39892378e-07 7.24929142e-04 0.00000000e+00 1.64845410e-05\n",
      " 1.85023237e-04 6.48485273e-04 2.77562393e-04 2.50867370e-04\n",
      " 2.18387087e-04 5.49441552e-04 1.45348838e-03 0.00000000e+00\n",
      " 5.51171481e-04 1.13712536e-03 4.56811505e-02 0.00000000e+00\n",
      " 3.01038494e-03]\n"
     ]
    },
    {
     "data": {
      "image/png": "[encoded data removed]",
      "text/plain": [
       "<Figure size 432x288 with 1 Axes>"
      ]
     },
     "metadata": {
      "needs_background": "light"
     },
     "output_type": "display_data"
    }
   ],
   "source": [
    "print(GBC.feature_importances_) #use inbuilt class feature_importances of tree based classifiers\n",
    "#plot graph of feature importances for better visualization\n",
    "feat_importances = pd.Series(GBC.feature_importances_, index=X.columns)\n",
    "feat_importances.nlargest(8).plot(kind='barh')\n",
    "plt.show()\n"
   ]
  },
  {
   "cell_type": "markdown",
   "metadata": {},
   "source": [
    "Lets test with these features"
   ]
  },
  {
   "cell_type": "code",
   "execution_count": 178,
   "metadata": {},
   "outputs": [],
   "source": [
    "X2= norm_x[feat_importances.nlargest(10).index]\n",
    "\n",
    "X2_train,X2_test,y_train,y_test = train_test_split(X2,y,test_size=0.3,random_state=1)"
   ]
  },
  {
   "cell_type": "code",
   "execution_count": 179,
   "metadata": {},
   "outputs": [
    {
     "name": "stdout",
     "output_type": "stream",
     "text": [
      "Confusion matrix:  \n",
      " [[172  39]\n",
      " [ 37 172]]\n",
      "accuracy_score   :    0.819047619047619\n"
     ]
    },
    {
     "data": {
      "image/png": "[encoded data removed]",
      "text/plain": [
       "<Figure size 432x288 with 1 Axes>"
      ]
     },
     "metadata": {
      "needs_background": "light"
     },
     "output_type": "display_data"
    }
   ],
   "source": [
    "GBC.fit(X2_train,y_train)\n",
    "y_pred = GBC.predict(X2_test)\n",
    "\n",
    "\n",
    "print('Confusion matrix:  \\n', confusion_matrix(y_test,y_pred))\n",
    "print('accuracy_score   :   ', accuracy_score(y_test,y_pred))\n",
    "\n",
    "fpr, tpr, _ = roc_curve(y_test,  y_pred)\n",
    "auc = roc_auc_score(y_test, y_pred)\n",
    "plt.plot(fpr,tpr,label=\"data 1, auc=\"+str(auc))\n",
    "plt.legend(loc=4)\n",
    "plt.show()"
   ]
  },
  {
   "cell_type": "markdown",
   "metadata": {},
   "source": [
    "These are important features and This is the final model"
   ]
  },
  {
   "cell_type": "code",
   "execution_count": 188,
   "metadata": {},
   "outputs": [
    {
     "data": {
      "text/plain": [
       "['churn.pkl']"
      ]
     },
     "execution_count": 188,
     "metadata": {},
     "output_type": "execute_result"
    }
   ],
   "source": [
    "#So i have to save model\n",
    "from sklearn.externals import joblib\n",
    "joblib.dump(GBC ,\"churn.pkl\")"
   ]
  },
  {
   "cell_type": "code",
   "execution_count": 192,
   "metadata": {},
   "outputs": [],
   "source": [
    "imp_cols =feat_importances.nlargest(10).index"
   ]
  },
  {
   "cell_type": "code",
   "execution_count": 193,
   "metadata": {},
   "outputs": [
    {
     "data": {
      "text/plain": [
       "Index(['TotalSpendinMonths1and2of2017', 'TotalOffnetspend', 'TotalSMSSpend',\n",
       "       'MostLovedCompetitornetworkininMonth2_Uxaa', 'TotalUniqueCalls',\n",
       "       'TotalOnnetspend', 'Customertenureinmonth', 'TotalDataConsumption',\n",
       "       'TotalDataSpend', 'network_age'],\n",
       "      dtype='object')"
      ]
     },
     "execution_count": 193,
     "metadata": {},
     "output_type": "execute_result"
    }
   ],
   "source": [
    "imp_cols "
   ]
  }
 ],
 "metadata": {
  "kernelspec": {
   "display_name": "Python 3",
   "language": "python",
   "name": "python3"
  },
  "language_info": {
   "codemirror_mode": {
    "name": "ipython",
    "version": 3
   },
   "file_extension": ".py",
   "mimetype": "text/x-python",
   "name": "python",
   "nbconvert_exporter": "python",
   "pygments_lexer": "ipython3",
   "version": "3.7.4"
  }
 },
 "nbformat": 4,
 "nbformat_minor": 2
}
